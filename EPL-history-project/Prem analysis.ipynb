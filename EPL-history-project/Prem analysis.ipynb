{
 "cells": [
  {
   "cell_type": "code",
   "execution_count": 1,
   "metadata": {},
   "outputs": [],
   "source": [
    "import pandas as pd "
   ]
  },
  {
   "cell_type": "code",
   "execution_count": 10,
   "metadata": {},
   "outputs": [],
   "source": [
    "prem = pd.read_csv('Clean prem data - no season labels.csv')"
   ]
  },
  {
   "cell_type": "code",
   "execution_count": null,
   "metadata": {},
   "outputs": [],
   "source": [
    "prem.replace({'West Bromwich Alb ': 'West Bromwich Albion','West Bromwich A': 'West Bromwich Albion', \n",
    "              'Wolverhampton W':'Wolverhampton Wanderers', 'Wolverhampton Wndrs': 'Wolverhampton Wanderers',\n",
    "              'Middlesbrough*': 'Middlesbrough'}, inplace = True)\n",
    "prem.Club = prem['Club'].str.strip()\n",
    "\n",
    "all_clubs = prem.Club.unique()\n",
    "print (all_clubs)\n",
    "print (len(all_clubs))"
   ]
  },
  {
   "cell_type": "markdown",
   "metadata": {},
   "source": [
    "That was more data cleaning: there was inconsistency in naming of clubs."
   ]
  },
  {
   "cell_type": "code",
   "execution_count": 9,
   "metadata": {},
   "outputs": [
    {
     "name": "stdout",
     "output_type": "stream",
     "text": [
      "                 Club  ID\n",
      "24          Liverpool  25\n",
      "42  Tottenham Hotspur  25\n",
      "1             Arsenal  25\n",
      "17            Everton  25\n",
      "13            Chelsea  25\n",
      "26  Manchester United  25\n",
      "2         Aston Villa  23\n",
      "28   Newcastle United  23\n",
      "45    West Ham United  21\n",
      "25    Manchester City  20\n",
      "                      Club  ID\n",
      "0          AFC Bournemouth   3\n",
      "35        Sheffield United   2\n",
      "8            Bradford City   2\n",
      "31         Oldham Athletic   1\n",
      "19       Huddersfield Town   1\n",
      "41            Swindon Town   1\n",
      "11            Cardiff City   1\n",
      "9   Brighton & Hove Albion   1\n",
      "6                Blackpool   1\n",
      "3                 Barnsley   1\n"
     ]
    }
   ],
   "source": [
    "prem_unique = prem.groupby('Club').ID.count().reset_index().sort_values(by=['ID'], ascending = False)\n",
    "print (prem_unique.head(10))\n",
    "print (prem_unique.tail(10))"
   ]
  },
  {
   "cell_type": "markdown",
   "metadata": {},
   "source": [
    "So 6 clubs have been in the premier league throughout, (and of those three have won it).\n",
    "7 clubs have spent only one season in the premier league, but that does not include 18-19 season, where Huddersfield, Cardiff and Brighton are spending their second season right now. Wolves, Cardiff and Fulham were promoted into 18-19, but all of these have previously appeared in the premier league."
   ]
  },
  {
   "cell_type": "markdown",
   "metadata": {},
   "source": [
    "Now. Can we incorporate all the top flight seasons?"
   ]
  },
  {
   "cell_type": "code",
   "execution_count": null,
   "metadata": {},
   "outputs": [],
   "source": [
    "seasons_to_1914 = pd.read_csv('')"
   ]
  }
 ],
 "metadata": {
  "kernelspec": {
   "display_name": "Python 3",
   "language": "python",
   "name": "python3"
  },
  "language_info": {
   "codemirror_mode": {
    "name": "ipython",
    "version": 3
   },
   "file_extension": ".py",
   "mimetype": "text/x-python",
   "name": "python",
   "nbconvert_exporter": "python",
   "pygments_lexer": "ipython3",
   "version": "3.7.6"
  }
 },
 "nbformat": 4,
 "nbformat_minor": 2
}
