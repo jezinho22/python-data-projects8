{
 "cells": [
  {
   "cell_type": "code",
   "execution_count": 70,
   "metadata": {},
   "outputs": [
    {
     "name": "stdout",
     "output_type": "stream",
     "text": [
      "['Bearsted 2', 'Tornadoes 2', 'Harrow Vultrix Senior 1st', 'Norwich City 1', 'Norwich Knights 2', 'Cambridge City 1', 'Kingfisher 2', 'KV 2', 'Bearsted 1', 'Cambridge Tigers 2']\n",
      "dict_keys(['2236106', '2236109', '2236110', '2236111', '2236113', '2236112', '2236114', '2236117', '2236115', '2236118', '2236119', '2236122', '2236120', '2236121', '2236123', '2236125', '2236127', '2236124', '2236126', '2236129', '2236130', '2236128', '2236134', '2236132', '2236131', '2236133', '2236137', '2236139', '2236138', '2236136', '2236272', '2236140', '2236142', '2236141', '2236144', '2236145', '2236143', '2236148', '2236146', '2236147', '2236149', '2236150', '2236151', '2236108', '2236152', '2236153', '2236226', '2236223', '2236224', '2236257', '2236221', 'index', 'teams'])\n"
     ]
    }
   ],
   "source": [
    "import pickle\n",
    "from bs4 import BeautifulSoup\n",
    "import requests\n",
    "from selenium import webdriver\n",
    "import time\n",
    "import random\n",
    "import pandas as pd\n",
    "import re\n",
    "\n",
    "with open('korf2.txt', 'rb') as handle:\n",
    "  dictmatches = pickle.loads(handle.read())\n",
    "\n",
    "print (dictmatches['teams'])\n",
    "print (dictmatches.keys())"
   ]
  },
  {
   "cell_type": "code",
   "execution_count": 72,
   "metadata": {},
   "outputs": [],
   "source": [
    "\n",
    "dictsquads = {}\n",
    "\n",
    "lstteams = dictmatches['teams']\n",
    "\n",
    "for team in lstteams:\n",
    "    dictsquads[team] = []\n",
    "    \n",
    "for match in dictmatches['index']:\n",
    "    dfmatch2 = dictmatches[match]\n",
    "    #work in columns 4 and 5 - scorer columns - make two new dfs\n",
    "    for x in [2,3]:\n",
    "        #extract squad\n",
    "        dfsquad = dfmatch2.iloc[:,x].reset_index()\n",
    "        #dfsquad.drop('index', axis = 1, inplace = True)\n",
    "\n",
    "        teamname = list(dfsquad.columns)[1].replace(\"_squad\", \"\")\n",
    "        \n",
    "        dictsquads[teamname].append(dfsquad.dropna())            \n",
    "        \n",
    "#combine squad lists for each club and groupby to count appearances\n",
    "dictappearances = {}\n",
    "for team in lstteams:\n",
    "    dfnew = pd.concat(dictsquads[team])\n",
    "    dfnewest = dfnew.groupby(dfnew.columns[1]).index.count().reset_index().rename(columns = {'index': 'appearances', f'{team}_squad':team})\n",
    "    dfnewest = dfnewest.sort_values(by=['appearances'],ascending = False)\n",
    "    dictappearances [team] = dfnewest\n",
    "\n",
    "with open('korf2appearances.txt', 'wb') as handle:\n",
    "  pickle.dump(dictappearances, handle)"
   ]
  },
  {
   "cell_type": "code",
   "execution_count": null,
   "metadata": {},
   "outputs": [],
   "source": []
  }
 ],
 "metadata": {
  "kernelspec": {
   "display_name": "Python 3",
   "language": "python",
   "name": "python3"
  },
  "language_info": {
   "codemirror_mode": {
    "name": "ipython",
    "version": 3
   },
   "file_extension": ".py",
   "mimetype": "text/x-python",
   "name": "python",
   "nbconvert_exporter": "python",
   "pygments_lexer": "ipython3",
   "version": "3.7.3"
  }
 },
 "nbformat": 4,
 "nbformat_minor": 2
}
